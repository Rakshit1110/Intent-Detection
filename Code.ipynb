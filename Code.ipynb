{
 "cells": [
  {
   "cell_type": "code",
   "execution_count": 50,
   "id": "202d9300-ffee-42ed-92f3-6dd5097c245b",
   "metadata": {},
   "outputs": [],
   "source": [
    "import os\n",
    "os.environ['KMP_DUPLICATE_LIB_OK']='True'\n",
    "import numpy as np\n",
    "import pandas as pd"
   ]
  },
  {
   "cell_type": "code",
   "execution_count": 51,
   "id": "51960479-dbc9-4608-a06a-0ed1cf54ab34",
   "metadata": {},
   "outputs": [],
   "source": [
    "df=pd.read_csv('input.csv')"
   ]
  },
  {
   "cell_type": "code",
   "execution_count": 52,
   "id": "7f3fc915-aefe-4814-90cb-86586f397fd4",
   "metadata": {},
   "outputs": [
    {
     "data": {
      "text/html": [
       "<div>\n",
       "<style scoped>\n",
       "    .dataframe tbody tr th:only-of-type {\n",
       "        vertical-align: middle;\n",
       "    }\n",
       "\n",
       "    .dataframe tbody tr th {\n",
       "        vertical-align: top;\n",
       "    }\n",
       "\n",
       "    .dataframe thead th {\n",
       "        text-align: right;\n",
       "    }\n",
       "</style>\n",
       "<table border=\"1\" class=\"dataframe\">\n",
       "  <thead>\n",
       "    <tr style=\"text-align: right;\">\n",
       "      <th></th>\n",
       "      <th>intent</th>\n",
       "      <th>text</th>\n",
       "      <th>responses</th>\n",
       "      <th>extension</th>\n",
       "      <th>context</th>\n",
       "      <th>entityType</th>\n",
       "      <th>entities</th>\n",
       "    </tr>\n",
       "  </thead>\n",
       "  <tbody>\n",
       "    <tr>\n",
       "      <th>0</th>\n",
       "      <td>Greeting</td>\n",
       "      <td>Hi</td>\n",
       "      <td>['Hi human, please tell me your GeniSys user',...</td>\n",
       "      <td>{'function': '', 'entities': False, 'responses...</td>\n",
       "      <td>{'in': '', 'out': 'GreetingUserRequest', 'clea...</td>\n",
       "      <td>NaN</td>\n",
       "      <td>[]</td>\n",
       "    </tr>\n",
       "    <tr>\n",
       "      <th>1</th>\n",
       "      <td>Greeting</td>\n",
       "      <td>Hi there</td>\n",
       "      <td>['Hi human, please tell me your GeniSys user',...</td>\n",
       "      <td>{'function': '', 'entities': False, 'responses...</td>\n",
       "      <td>{'in': '', 'out': 'GreetingUserRequest', 'clea...</td>\n",
       "      <td>NaN</td>\n",
       "      <td>[]</td>\n",
       "    </tr>\n",
       "    <tr>\n",
       "      <th>2</th>\n",
       "      <td>Greeting</td>\n",
       "      <td>Hola</td>\n",
       "      <td>['Hi human, please tell me your GeniSys user',...</td>\n",
       "      <td>{'function': '', 'entities': False, 'responses...</td>\n",
       "      <td>{'in': '', 'out': 'GreetingUserRequest', 'clea...</td>\n",
       "      <td>NaN</td>\n",
       "      <td>[]</td>\n",
       "    </tr>\n",
       "    <tr>\n",
       "      <th>3</th>\n",
       "      <td>Greeting</td>\n",
       "      <td>Hello</td>\n",
       "      <td>['Hi human, please tell me your GeniSys user',...</td>\n",
       "      <td>{'function': '', 'entities': False, 'responses...</td>\n",
       "      <td>{'in': '', 'out': 'GreetingUserRequest', 'clea...</td>\n",
       "      <td>NaN</td>\n",
       "      <td>[]</td>\n",
       "    </tr>\n",
       "    <tr>\n",
       "      <th>4</th>\n",
       "      <td>Greeting</td>\n",
       "      <td>Hello there</td>\n",
       "      <td>['Hi human, please tell me your GeniSys user',...</td>\n",
       "      <td>{'function': '', 'entities': False, 'responses...</td>\n",
       "      <td>{'in': '', 'out': 'GreetingUserRequest', 'clea...</td>\n",
       "      <td>NaN</td>\n",
       "      <td>[]</td>\n",
       "    </tr>\n",
       "  </tbody>\n",
       "</table>\n",
       "</div>"
      ],
      "text/plain": [
       "     intent         text                                          responses  \\\n",
       "0  Greeting           Hi  ['Hi human, please tell me your GeniSys user',...   \n",
       "1  Greeting     Hi there  ['Hi human, please tell me your GeniSys user',...   \n",
       "2  Greeting         Hola  ['Hi human, please tell me your GeniSys user',...   \n",
       "3  Greeting        Hello  ['Hi human, please tell me your GeniSys user',...   \n",
       "4  Greeting  Hello there  ['Hi human, please tell me your GeniSys user',...   \n",
       "\n",
       "                                           extension  \\\n",
       "0  {'function': '', 'entities': False, 'responses...   \n",
       "1  {'function': '', 'entities': False, 'responses...   \n",
       "2  {'function': '', 'entities': False, 'responses...   \n",
       "3  {'function': '', 'entities': False, 'responses...   \n",
       "4  {'function': '', 'entities': False, 'responses...   \n",
       "\n",
       "                                             context  entityType entities  \n",
       "0  {'in': '', 'out': 'GreetingUserRequest', 'clea...         NaN       []  \n",
       "1  {'in': '', 'out': 'GreetingUserRequest', 'clea...         NaN       []  \n",
       "2  {'in': '', 'out': 'GreetingUserRequest', 'clea...         NaN       []  \n",
       "3  {'in': '', 'out': 'GreetingUserRequest', 'clea...         NaN       []  \n",
       "4  {'in': '', 'out': 'GreetingUserRequest', 'clea...         NaN       []  "
      ]
     },
     "execution_count": 52,
     "metadata": {},
     "output_type": "execute_result"
    }
   ],
   "source": [
    "df.head()"
   ]
  },
  {
   "cell_type": "code",
   "execution_count": 53,
   "id": "dea12fba-1845-474d-bf2c-87b54be37522",
   "metadata": {},
   "outputs": [
    {
     "data": {
      "text/plain": [
       "(143, 7)"
      ]
     },
     "execution_count": 53,
     "metadata": {},
     "output_type": "execute_result"
    }
   ],
   "source": [
    "df.shape"
   ]
  },
  {
   "cell_type": "code",
   "execution_count": 72,
   "id": "4ee056dd-3e18-4d18-a334-942d7589a153",
   "metadata": {},
   "outputs": [],
   "source": [
    "random_samples = df.sample(n=int(df.shape[0]/10))"
   ]
  },
  {
   "cell_type": "code",
   "execution_count": 73,
   "id": "a7729440-51e9-43be-8a3b-b1eea5ce7510",
   "metadata": {},
   "outputs": [
    {
     "data": {
      "text/plain": [
       "(14, 7)"
      ]
     },
     "execution_count": 73,
     "metadata": {},
     "output_type": "execute_result"
    }
   ],
   "source": [
    "random_samples.shape"
   ]
  },
  {
   "cell_type": "code",
   "execution_count": 74,
   "id": "ae7f8d7a-6d45-4d63-a013-b26414252d28",
   "metadata": {},
   "outputs": [],
   "source": [
    "val_x,val_y=random_samples.text,random_samples.intent"
   ]
  },
  {
   "cell_type": "code",
   "execution_count": 54,
   "id": "abd94227-ec07-443c-a0e0-cf962208e38b",
   "metadata": {},
   "outputs": [],
   "source": [
    "x=df.text\n",
    "y=df.intent"
   ]
  },
  {
   "cell_type": "code",
   "execution_count": 55,
   "id": "f9959be4-0c2b-45ec-9a22-0076001b7a3b",
   "metadata": {},
   "outputs": [],
   "source": [
    "from sklearn.model_selection import train_test_split"
   ]
  },
  {
   "cell_type": "code",
   "execution_count": 56,
   "id": "cb100f4c-2761-4980-9f5a-ad0ea2c50f7f",
   "metadata": {},
   "outputs": [
    {
     "data": {
      "text/plain": [
       "0             Hi\n",
       "1       Hi there\n",
       "2           Hola\n",
       "3          Hello\n",
       "4    Hello there\n",
       "Name: text, dtype: object"
      ]
     },
     "execution_count": 56,
     "metadata": {},
     "output_type": "execute_result"
    }
   ],
   "source": [
    "x[:5]"
   ]
  },
  {
   "cell_type": "code",
   "execution_count": 57,
   "id": "a73f4001-ae61-4edd-aaaa-9c5ac453ae36",
   "metadata": {},
   "outputs": [
    {
     "data": {
      "text/plain": [
       "0    Greeting\n",
       "1    Greeting\n",
       "2    Greeting\n",
       "3    Greeting\n",
       "4    Greeting\n",
       "Name: intent, dtype: object"
      ]
     },
     "execution_count": 57,
     "metadata": {},
     "output_type": "execute_result"
    }
   ],
   "source": [
    "y[:5]"
   ]
  },
  {
   "cell_type": "code",
   "execution_count": 58,
   "id": "e85f7bda-466d-4c88-9c15-6baa36c663a9",
   "metadata": {},
   "outputs": [],
   "source": [
    "x_train,x_test, y_train,y_test= train_test_split(x,y,test_size=0.2,random_state=10)"
   ]
  },
  {
   "cell_type": "code",
   "execution_count": 59,
   "id": "1dcca7d5-db13-4cae-8d50-16fa247307e1",
   "metadata": {},
   "outputs": [],
   "source": [
    "import tensorflow as tf"
   ]
  },
  {
   "cell_type": "code",
   "execution_count": 60,
   "id": "b39b5e2b-99a2-4ebc-98e9-d3e12a2f1501",
   "metadata": {},
   "outputs": [],
   "source": [
    "tokenizer = tf.keras.preprocessing.text.Tokenizer()\n",
    "tokenizer.fit_on_texts(x_train)"
   ]
  },
  {
   "cell_type": "code",
   "execution_count": 61,
   "id": "9f78573c-17ca-4d76-af20-00e40a91503f",
   "metadata": {},
   "outputs": [],
   "source": [
    "train_sequences = tokenizer.texts_to_sequences(x_train)"
   ]
  },
  {
   "cell_type": "code",
   "execution_count": 62,
   "id": "b9aaa573-b54a-420b-93ab-3dcfcf506def",
   "metadata": {},
   "outputs": [],
   "source": [
    "test_sequences = tokenizer.texts_to_sequences(x_test)"
   ]
  },
  {
   "cell_type": "code",
   "execution_count": 75,
   "id": "3b7148e4-a3e0-4df2-b06a-ab437cfe1862",
   "metadata": {},
   "outputs": [],
   "source": [
    "val_sequences = tokenizer.texts_to_sequences(val_x)"
   ]
  },
  {
   "cell_type": "code",
   "execution_count": 76,
   "id": "5d1480e6-94b3-41ac-ba98-e0ca284cbb31",
   "metadata": {},
   "outputs": [],
   "source": [
    "# Pad sequences to ensure uniform length\n",
    "max_length = max(len(seq) for seq in train_sequences + test_sequences)\n",
    "train_padded_sequences = tf.keras.preprocessing.sequence.pad_sequences(train_sequences, maxlen=max_length, padding='post')\n",
    "test_padded_sequences = tf.keras.preprocessing.sequence.pad_sequences(test_sequences, maxlen=max_length, padding='post')\n",
    "val_padded_sequences = tf.keras.preprocessing.sequence.pad_sequences(val_sequences, maxlen=max_length, padding='post')"
   ]
  },
  {
   "cell_type": "code",
   "execution_count": 77,
   "id": "50982ba4-748d-4039-ac70-25dcf77b4dcb",
   "metadata": {},
   "outputs": [],
   "source": [
    "# Convert intents to unique integer labels\n",
    "intent_label_mapping = {label: idx for idx, label in enumerate(y_train.unique())}\n",
    "y_train_labels = y_train.map(intent_label_mapping)\n",
    "y_test_labels= y_test.map(intent_label_mapping)\n",
    "val_labels=val_y.map(intent_label_mapping)"
   ]
  },
  {
   "cell_type": "code",
   "execution_count": 78,
   "id": "47ee1b87-4024-4eb6-9d13-3966582ef400",
   "metadata": {},
   "outputs": [],
   "source": [
    "# Convert integer labels to one-hot encoding\n",
    "num_intents = len(intent_label_mapping)\n",
    "train_intent_labels = tf.keras.utils.to_categorical(y_train_labels, num_classes=num_intents)\n",
    "test_intent_labels = tf.keras.utils.to_categorical(y_test_labels, num_classes=num_intents)\n",
    "val_intent_labels = tf.keras.utils.to_categorical(val_labels, num_classes=num_intents)"
   ]
  },
  {
   "cell_type": "code",
   "execution_count": 85,
   "id": "9c676ba4-ee27-4126-ad08-a695d110f01c",
   "metadata": {},
   "outputs": [],
   "source": [
    "# Define RNN model with additional layers and increased units in the embedding layer\n",
    "model = tf.keras.Sequential([\n",
    "    tf.keras.layers.Embedding(input_dim=len(tokenizer.word_index)+1, output_dim=200, input_length=max_length),\n",
    "    tf.keras.layers.LSTM(128, return_sequences=True),  # Adding another LSTM layer with return_sequences=True\n",
    "    tf.keras.layers.LSTM(64),  # Adding another LSTM layer\n",
    "    tf.keras.layers.Dense(128, activation='relu'),  # Adding a Dense hidden layer\n",
    "    tf.keras.layers.Dense(num_intents, activation='softmax')  # Output layer with softmax activation\n",
    "])"
   ]
  },
  {
   "cell_type": "code",
   "execution_count": 86,
   "id": "a5fc426c-1a83-4278-92c4-4ab99731c1d8",
   "metadata": {},
   "outputs": [],
   "source": [
    "model.compile(optimizer='adam', loss='categorical_crossentropy', metrics=['accuracy'])"
   ]
  },
  {
   "cell_type": "code",
   "execution_count": 87,
   "id": "2e2bd8bc-48ad-4b28-8bd1-e60295e43a7e",
   "metadata": {},
   "outputs": [
    {
     "name": "stdout",
     "output_type": "stream",
     "text": [
      "Epoch 1/50\n",
      "4/4 [==============================] - 5s 520ms/step - loss: 3.0913 - accuracy: 0.0702 - val_loss: 3.0844 - val_accuracy: 0.1429\n",
      "Epoch 2/50\n",
      "4/4 [==============================] - 0s 22ms/step - loss: 3.0808 - accuracy: 0.1930 - val_loss: 3.0755 - val_accuracy: 0.2857\n",
      "Epoch 3/50\n",
      "4/4 [==============================] - 0s 21ms/step - loss: 3.0679 - accuracy: 0.2544 - val_loss: 3.0585 - val_accuracy: 0.1429\n",
      "Epoch 4/50\n",
      "4/4 [==============================] - 0s 21ms/step - loss: 3.0452 - accuracy: 0.1930 - val_loss: 3.0303 - val_accuracy: 0.0714\n",
      "Epoch 5/50\n",
      "4/4 [==============================] - 0s 21ms/step - loss: 2.9987 - accuracy: 0.1930 - val_loss: 2.9745 - val_accuracy: 0.0714\n",
      "Epoch 6/50\n",
      "4/4 [==============================] - 0s 26ms/step - loss: 2.8916 - accuracy: 0.1930 - val_loss: 2.8666 - val_accuracy: 0.0714\n",
      "Epoch 7/50\n",
      "4/4 [==============================] - 0s 21ms/step - loss: 2.7070 - accuracy: 0.2105 - val_loss: 2.7174 - val_accuracy: 0.0714\n",
      "Epoch 8/50\n",
      "4/4 [==============================] - 0s 21ms/step - loss: 2.4798 - accuracy: 0.2368 - val_loss: 2.4946 - val_accuracy: 0.0714\n",
      "Epoch 9/50\n",
      "4/4 [==============================] - 0s 26ms/step - loss: 2.2310 - accuracy: 0.3246 - val_loss: 2.3321 - val_accuracy: 0.2857\n",
      "Epoch 10/50\n",
      "4/4 [==============================] - 0s 21ms/step - loss: 2.0596 - accuracy: 0.3596 - val_loss: 2.1601 - val_accuracy: 0.3571\n",
      "Epoch 11/50\n",
      "4/4 [==============================] - 0s 30ms/step - loss: 1.8480 - accuracy: 0.4035 - val_loss: 2.1036 - val_accuracy: 0.3571\n",
      "Epoch 12/50\n",
      "4/4 [==============================] - 0s 22ms/step - loss: 1.6388 - accuracy: 0.5088 - val_loss: 1.8000 - val_accuracy: 0.5000\n",
      "Epoch 13/50\n",
      "4/4 [==============================] - 0s 29ms/step - loss: 1.4526 - accuracy: 0.5439 - val_loss: 1.6716 - val_accuracy: 0.5714\n",
      "Epoch 14/50\n",
      "4/4 [==============================] - 0s 38ms/step - loss: 1.2235 - accuracy: 0.6754 - val_loss: 1.4219 - val_accuracy: 0.5714\n",
      "Epoch 15/50\n",
      "4/4 [==============================] - 0s 28ms/step - loss: 1.0548 - accuracy: 0.7982 - val_loss: 1.3520 - val_accuracy: 0.6429\n",
      "Epoch 16/50\n",
      "4/4 [==============================] - 0s 25ms/step - loss: 0.8799 - accuracy: 0.8158 - val_loss: 1.0595 - val_accuracy: 0.7143\n",
      "Epoch 17/50\n",
      "4/4 [==============================] - 0s 26ms/step - loss: 0.7680 - accuracy: 0.8246 - val_loss: 1.1323 - val_accuracy: 0.6429\n",
      "Epoch 18/50\n",
      "4/4 [==============================] - 0s 27ms/step - loss: 0.6531 - accuracy: 0.8596 - val_loss: 1.0397 - val_accuracy: 0.6429\n",
      "Epoch 19/50\n",
      "4/4 [==============================] - 0s 26ms/step - loss: 0.5819 - accuracy: 0.8772 - val_loss: 0.8685 - val_accuracy: 0.6429\n",
      "Epoch 20/50\n",
      "4/4 [==============================] - 0s 23ms/step - loss: 0.5179 - accuracy: 0.8684 - val_loss: 1.0385 - val_accuracy: 0.6429\n",
      "Epoch 21/50\n",
      "4/4 [==============================] - 0s 23ms/step - loss: 0.4450 - accuracy: 0.8860 - val_loss: 0.8361 - val_accuracy: 0.7143\n",
      "Epoch 22/50\n",
      "4/4 [==============================] - 0s 23ms/step - loss: 0.3849 - accuracy: 0.9211 - val_loss: 0.8204 - val_accuracy: 0.7857\n",
      "Epoch 23/50\n",
      "4/4 [==============================] - 0s 23ms/step - loss: 0.3301 - accuracy: 0.9211 - val_loss: 0.8933 - val_accuracy: 0.7143\n",
      "Epoch 24/50\n",
      "4/4 [==============================] - 0s 24ms/step - loss: 0.2714 - accuracy: 0.9474 - val_loss: 0.7856 - val_accuracy: 0.7857\n",
      "Epoch 25/50\n",
      "4/4 [==============================] - 0s 25ms/step - loss: 0.2326 - accuracy: 0.9737 - val_loss: 0.8359 - val_accuracy: 0.7857\n",
      "Epoch 26/50\n",
      "4/4 [==============================] - 0s 23ms/step - loss: 0.2090 - accuracy: 0.9649 - val_loss: 0.8276 - val_accuracy: 0.7143\n",
      "Epoch 27/50\n",
      "4/4 [==============================] - 0s 23ms/step - loss: 0.1747 - accuracy: 0.9825 - val_loss: 0.8397 - val_accuracy: 0.7143\n",
      "Epoch 28/50\n",
      "4/4 [==============================] - 0s 24ms/step - loss: 0.1515 - accuracy: 0.9912 - val_loss: 0.9293 - val_accuracy: 0.7143\n",
      "Epoch 29/50\n",
      "4/4 [==============================] - 0s 29ms/step - loss: 0.1323 - accuracy: 0.9912 - val_loss: 0.8727 - val_accuracy: 0.7143\n",
      "Epoch 30/50\n",
      "4/4 [==============================] - 0s 26ms/step - loss: 0.1114 - accuracy: 0.9912 - val_loss: 0.8283 - val_accuracy: 0.7857\n",
      "Epoch 31/50\n",
      "4/4 [==============================] - 0s 23ms/step - loss: 0.0947 - accuracy: 1.0000 - val_loss: 0.8413 - val_accuracy: 0.7857\n",
      "Epoch 32/50\n",
      "4/4 [==============================] - 0s 23ms/step - loss: 0.0823 - accuracy: 1.0000 - val_loss: 0.8457 - val_accuracy: 0.7857\n",
      "Epoch 33/50\n",
      "4/4 [==============================] - 0s 23ms/step - loss: 0.0703 - accuracy: 1.0000 - val_loss: 0.8234 - val_accuracy: 0.7857\n",
      "Epoch 34/50\n",
      "4/4 [==============================] - 0s 23ms/step - loss: 0.0626 - accuracy: 1.0000 - val_loss: 0.9083 - val_accuracy: 0.7143\n",
      "Epoch 35/50\n",
      "4/4 [==============================] - 0s 23ms/step - loss: 0.0548 - accuracy: 1.0000 - val_loss: 0.9654 - val_accuracy: 0.7143\n",
      "Epoch 36/50\n",
      "4/4 [==============================] - 0s 23ms/step - loss: 0.0497 - accuracy: 1.0000 - val_loss: 0.9411 - val_accuracy: 0.7143\n",
      "Epoch 37/50\n",
      "4/4 [==============================] - 0s 22ms/step - loss: 0.0439 - accuracy: 1.0000 - val_loss: 0.9371 - val_accuracy: 0.7143\n",
      "Epoch 38/50\n",
      "4/4 [==============================] - 0s 23ms/step - loss: 0.0398 - accuracy: 1.0000 - val_loss: 0.9480 - val_accuracy: 0.7143\n",
      "Epoch 39/50\n",
      "4/4 [==============================] - 0s 23ms/step - loss: 0.0361 - accuracy: 1.0000 - val_loss: 0.9656 - val_accuracy: 0.7143\n",
      "Epoch 40/50\n",
      "4/4 [==============================] - 0s 23ms/step - loss: 0.0329 - accuracy: 1.0000 - val_loss: 0.9799 - val_accuracy: 0.7143\n",
      "Epoch 41/50\n",
      "4/4 [==============================] - 0s 23ms/step - loss: 0.0304 - accuracy: 1.0000 - val_loss: 0.9919 - val_accuracy: 0.7143\n",
      "Epoch 42/50\n",
      "4/4 [==============================] - 0s 25ms/step - loss: 0.0281 - accuracy: 1.0000 - val_loss: 1.0094 - val_accuracy: 0.7143\n",
      "Epoch 43/50\n",
      "4/4 [==============================] - 0s 25ms/step - loss: 0.0262 - accuracy: 1.0000 - val_loss: 1.0189 - val_accuracy: 0.7143\n",
      "Epoch 44/50\n",
      "4/4 [==============================] - 0s 24ms/step - loss: 0.0244 - accuracy: 1.0000 - val_loss: 1.0281 - val_accuracy: 0.7143\n",
      "Epoch 45/50\n",
      "4/4 [==============================] - 0s 23ms/step - loss: 0.0229 - accuracy: 1.0000 - val_loss: 1.0329 - val_accuracy: 0.7143\n",
      "Epoch 46/50\n",
      "4/4 [==============================] - 0s 45ms/step - loss: 0.0215 - accuracy: 1.0000 - val_loss: 1.0413 - val_accuracy: 0.7143\n",
      "Epoch 47/50\n",
      "4/4 [==============================] - 0s 24ms/step - loss: 0.0203 - accuracy: 1.0000 - val_loss: 1.0472 - val_accuracy: 0.7143\n",
      "Epoch 48/50\n",
      "4/4 [==============================] - 0s 24ms/step - loss: 0.0193 - accuracy: 1.0000 - val_loss: 1.0560 - val_accuracy: 0.7143\n",
      "Epoch 49/50\n",
      "4/4 [==============================] - 0s 24ms/step - loss: 0.0182 - accuracy: 1.0000 - val_loss: 1.0678 - val_accuracy: 0.7143\n",
      "Epoch 50/50\n",
      "4/4 [==============================] - 0s 23ms/step - loss: 0.0174 - accuracy: 1.0000 - val_loss: 1.0868 - val_accuracy: 0.7143\n"
     ]
    },
    {
     "data": {
      "text/plain": [
       "<keras.callbacks.History at 0x2061b9408e0>"
      ]
     },
     "execution_count": 87,
     "metadata": {},
     "output_type": "execute_result"
    }
   ],
   "source": [
    "model.fit(train_padded_sequences, train_intent_labels, epochs=50, batch_size=32, validation_data=(val_padded_sequences, val_intent_labels))"
   ]
  },
  {
   "cell_type": "code",
   "execution_count": 88,
   "id": "8686c81b-f2ec-4865-b906-3a62bb4e0620",
   "metadata": {},
   "outputs": [
    {
     "name": "stdout",
     "output_type": "stream",
     "text": [
      "1/1 [==============================] - 0s 38ms/step - loss: 2.3704 - accuracy: 0.4483\n"
     ]
    },
    {
     "data": {
      "text/plain": [
       "[2.370412588119507, 0.4482758641242981]"
      ]
     },
     "execution_count": 88,
     "metadata": {},
     "output_type": "execute_result"
    }
   ],
   "source": [
    "model.evaluate(test_padded_sequences, test_intent_labels)"
   ]
  },
  {
   "cell_type": "code",
   "execution_count": null,
   "id": "29271f78-e702-4032-9366-07ac88346072",
   "metadata": {},
   "outputs": [],
   "source": []
  }
 ],
 "metadata": {
  "kernelspec": {
   "display_name": "Python 3 (ipykernel)",
   "language": "python",
   "name": "python3"
  },
  "language_info": {
   "codemirror_mode": {
    "name": "ipython",
    "version": 3
   },
   "file_extension": ".py",
   "mimetype": "text/x-python",
   "name": "python",
   "nbconvert_exporter": "python",
   "pygments_lexer": "ipython3",
   "version": "3.9.18"
  }
 },
 "nbformat": 4,
 "nbformat_minor": 5
}
